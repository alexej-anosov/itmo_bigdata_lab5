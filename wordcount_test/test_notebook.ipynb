{
 "cells": [
  {
   "cell_type": "code",
   "execution_count": 3,
   "metadata": {},
   "outputs": [],
   "source": [
    "import findspark\n",
    "from pyspark.sql import SparkSession\n",
    "import os\n",
    "\n",
    "\n",
    "os.environ['SPARK_HOME'] = \"/root/spark\"\n",
    "os.environ['JAVA_HOME'] = '/usr/lib/jvm/java-21-openjdk-amd64'\n",
    "\n",
    "\n",
    "findspark.init()"
   ]
  },
  {
   "cell_type": "code",
   "execution_count": 4,
   "metadata": {},
   "outputs": [
    {
     "name": "stderr",
     "output_type": "stream",
     "text": [
      "24/09/22 12:53:27 WARN Utils: Your hostname, fmrzlvsxry resolves to a loopback address: 127.0.1.1; using 31.128.42.197 instead (on interface eth0)\n",
      "24/09/22 12:53:27 WARN Utils: Set SPARK_LOCAL_IP if you need to bind to another address\n",
      "Setting default log level to \"WARN\".\n",
      "To adjust logging level use sc.setLogLevel(newLevel). For SparkR, use setLogLevel(newLevel).\n",
      "24/09/22 12:53:28 WARN NativeCodeLoader: Unable to load native-hadoop library for your platform... using builtin-java classes where applicable\n"
     ]
    }
   ],
   "source": [
    "spark = SparkSession.builder.appName('word_count').getOrCreate()"
   ]
  },
  {
   "cell_type": "code",
   "execution_count": 5,
   "metadata": {},
   "outputs": [
    {
     "name": "stderr",
     "output_type": "stream",
     "text": [
      "                                                                                \r"
     ]
    }
   ],
   "source": [
    "context = spark.sparkContext.textFile(\"test_data.txt\")\n",
    "\n",
    "counts = context.flatMap(lambda line: line.split(\" \")) \\\n",
    "                            .map(lambda word: (word, 1)) \\\n",
    "                           .reduceByKey(lambda x, y: x + y)\n",
    "output = counts.collect()"
   ]
  },
  {
   "cell_type": "code",
   "execution_count": 6,
   "metadata": {},
   "outputs": [
    {
     "data": {
      "text/plain": [
       "[('river', 1),\n",
       " ('flowing', 1),\n",
       " ('under', 1),\n",
       " ('moon', 1),\n",
       " ('stars', 1),\n",
       " ('sky', 2),\n",
       " ('wind', 1),\n",
       " ('sun', 2),\n",
       " ('green', 1),\n",
       " ('hills', 1),\n",
       " ('light', 1),\n",
       " ('drifting', 1),\n",
       " ('blue', 1),\n",
       " ('rain', 1),\n",
       " ('falling', 1),\n",
       " ('quiet', 1),\n",
       " ('forest', 1),\n",
       " ('warm', 1),\n",
       " ('waves', 1),\n",
       " ('crashing', 1),\n",
       " ('shore', 1),\n",
       " ('rustle', 1),\n",
       " ('the', 10),\n",
       " ('bright', 1),\n",
       " ('shining', 1),\n",
       " ('in', 5),\n",
       " ('dark', 1),\n",
       " ('trees', 1),\n",
       " ('whisper', 1),\n",
       " ('gentle', 1),\n",
       " ('rising', 1),\n",
       " ('over', 1),\n",
       " ('birds', 1),\n",
       " ('singing', 1),\n",
       " ('morning', 1),\n",
       " ('clouds', 1),\n",
       " ('across', 1),\n",
       " ('on', 2),\n",
       " ('flowers', 1),\n",
       " ('bloom', 1),\n",
       " ('sandy', 1),\n",
       " ('leaves', 1),\n",
       " ('cool', 1),\n",
       " ('breeze', 1)]"
      ]
     },
     "execution_count": 6,
     "metadata": {},
     "output_type": "execute_result"
    },
    {
     "name": "stderr",
     "output_type": "stream",
     "text": [
      "24/09/22 12:53:45 WARN GarbageCollectionMetrics: To enable non-built-in garbage collector(s) List(G1 Concurrent GC), users should configure it(them) to spark.eventLog.gcMetrics.youngGenerationGarbageCollectors or spark.eventLog.gcMetrics.oldGenerationGarbageCollectors\n"
     ]
    }
   ],
   "source": [
    "output"
   ]
  },
  {
   "cell_type": "code",
   "execution_count": 7,
   "metadata": {},
   "outputs": [],
   "source": [
    "spark.stop()"
   ]
  },
  {
   "cell_type": "code",
   "execution_count": null,
   "metadata": {},
   "outputs": [],
   "source": []
  }
 ],
 "metadata": {
  "kernelspec": {
   "display_name": "venv",
   "language": "python",
   "name": "python3"
  },
  "language_info": {
   "codemirror_mode": {
    "name": "ipython",
    "version": 3
   },
   "file_extension": ".py",
   "mimetype": "text/x-python",
   "name": "python",
   "nbconvert_exporter": "python",
   "pygments_lexer": "ipython3",
   "version": "3.11.9"
  }
 },
 "nbformat": 4,
 "nbformat_minor": 2
}
