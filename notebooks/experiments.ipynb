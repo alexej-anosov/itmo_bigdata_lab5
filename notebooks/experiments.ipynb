{
 "cells": [
  {
   "cell_type": "code",
   "execution_count": 1,
   "metadata": {},
   "outputs": [],
   "source": [
    "\n",
    "import pyspark\n",
    "from pyspark.ml import clustering, evaluation\n",
    "from pyspark.sql import SparkSession\n"
   ]
  },
  {
   "cell_type": "code",
   "execution_count": 2,
   "metadata": {},
   "outputs": [],
   "source": [
    "import os\n",
    "\n",
    "os.environ['SPARK_HOME'] = \"/root/spark\"\n",
    "os.environ['JAVA_HOME'] = '/usr/lib/jvm/java-21-openjdk-amd64'"
   ]
  },
  {
   "cell_type": "code",
   "execution_count": 3,
   "metadata": {},
   "outputs": [
    {
     "name": "stdout",
     "output_type": "stream",
     "text": [
      "spark=SparkSessionConfig(app_name='my_kmeans', deploy_mode='local', driver_memory='1g', executor_memory='2g') paths=PathsConfig(data='../data/subset.csv', model='../model/my_kmeans') kmeans=KMeansConfig(k=10, maxIter=20, seed=42)\n"
     ]
    }
   ],
   "source": [
    "from pydantic import BaseModel\n",
    "import yaml\n",
    "\n",
    "\n",
    "class SparkSessionConfig(BaseModel):\n",
    "    app_name: str\n",
    "    deploy_mode: str\n",
    "    driver_memory: str\n",
    "    executor_memory: str\n",
    "    \n",
    "    \n",
    "class PathsConfig(BaseModel):\n",
    "    data: str\n",
    "    model: str\n",
    "    \n",
    "    \n",
    "class KMeansConfig(BaseModel):\n",
    "    k: int\n",
    "    maxIter: int\n",
    "    seed: int\n",
    "\n",
    "    \n",
    "class Config(BaseModel):\n",
    "    spark: SparkSessionConfig\n",
    "    paths: PathsConfig\n",
    "    kmeans: KMeansConfig\n",
    "    \n",
    "\n",
    "def load_config(file_path: str) -> Config:\n",
    "    with open(file_path, 'r') as file:\n",
    "        config_data = yaml.safe_load(file)\n",
    "    return Config(**config_data)\n",
    "    # return config_data\n",
    "    \n",
    "\n",
    "config = load_config(\"../configs/config.yaml\")\n",
    "print(config)"
   ]
  },
  {
   "cell_type": "code",
   "execution_count": 4,
   "metadata": {},
   "outputs": [
    {
     "name": "stderr",
     "output_type": "stream",
     "text": [
      "24/08/20 14:43:42 WARN Utils: Your hostname, fmrzlvsxry resolves to a loopback address: 127.0.1.1; using 31.128.42.197 instead (on interface eth0)\n",
      "24/08/20 14:43:42 WARN Utils: Set SPARK_LOCAL_IP if you need to bind to another address\n",
      "Setting default log level to \"WARN\".\n",
      "To adjust logging level use sc.setLogLevel(newLevel). For SparkR, use setLogLevel(newLevel).\n",
      "24/08/20 14:43:43 WARN NativeCodeLoader: Unable to load native-hadoop library for your platform... using builtin-java classes where applicable\n"
     ]
    }
   ],
   "source": [
    "import findspark\n",
    "\n",
    "findspark.init()\n",
    "\n",
    "spark_session = (\n",
    "    SparkSession.builder.appName(config.spark.app_name)\n",
    "    .master(config.spark.deploy_mode)\n",
    "    .config(\"spark.driver.memory\", config.spark.driver_memory)\n",
    "    .config(\"spark.executor.memory\", config.spark.executor_memory)\n",
    "    .getOrCreate()\n",
    ")"
   ]
  },
  {
   "cell_type": "code",
   "execution_count": 5,
   "metadata": {},
   "outputs": [
    {
     "name": "stderr",
     "output_type": "stream",
     "text": [
      "24/08/20 14:43:50 WARN SparkStringUtils: Truncated the string representation of a plan since it was too large. This behavior can be adjusted by setting 'spark.sql.debug.maxToStringFields'.\n",
      "                                                                                \r"
     ]
    }
   ],
   "source": [
    "import pyspark.sql\n",
    "from pyspark.ml.feature import StandardScaler, VectorAssembler\n",
    "\n",
    "\n",
    "\n",
    "class Preprocessor:\n",
    "    def __init__(self, spark_session: pyspark.sql.SparkSession, data_path: str):\n",
    "        self.data_path = data_path\n",
    "        self.spark_session = spark_session\n",
    "        self.df = None\n",
    "\n",
    "\n",
    "    def load_data(self):\n",
    "        self.df = self.spark_session.read.csv(self.data_path, header=True, inferSchema=True)\n",
    "\n",
    "\n",
    "    def vectorize(self, df: pyspark.sql.DataFrame) -> pyspark.sql.DataFrame:  \n",
    "        vec_assembler = VectorAssembler(\n",
    "            inputCols=df.columns, outputCol=\"features\"\n",
    "        )\n",
    "        return vec_assembler.transform(df)\n",
    "    \n",
    "    \n",
    "    def scale(self, df: pyspark.sql.DataFrame) -> pyspark.sql.DataFrame: \n",
    "        scaler = StandardScaler(inputCol=\"features\", outputCol=\"scaled_features\").fit(df)\n",
    "        return scaler.transform(df)\n",
    "    \n",
    "    \n",
    "    def create_df(self) -> pyspark.sql.DataFrame:\n",
    "        \n",
    "        self.load_data()\n",
    "\n",
    "        self.df = self.df.drop('code', 'product_name')\n",
    "\n",
    "        self.df = self.vectorize(self.df)\n",
    "\n",
    "        self.df = self.scale(self.df)\n",
    "        \n",
    "        return self.df\n",
    "\n",
    "\n",
    "preprocessor = Preprocessor(spark_session, config.paths.data)\n",
    "df = preprocessor.create_df()"
   ]
  },
  {
   "cell_type": "code",
   "execution_count": 6,
   "metadata": {},
   "outputs": [
    {
     "name": "stderr",
     "output_type": "stream",
     "text": [
      "24/08/20 14:43:54 WARN InstanceBuilder: Failed to load implementation from:dev.ludovic.netlib.blas.JNIBLAS\n",
      "24/08/20 14:43:54 WARN InstanceBuilder: Failed to load implementation from:dev.ludovic.netlib.blas.VectorBLAS\n",
      "24/08/20 14:43:54 WARN GarbageCollectionMetrics: To enable non-built-in garbage collector(s) List(G1 Concurrent GC), users should configure it(them) to spark.eventLog.gcMetrics.youngGenerationGarbageCollectors or spark.eventLog.gcMetrics.oldGenerationGarbageCollectors\n"
     ]
    }
   ],
   "source": [
    "model_args = dict(config.kmeans)\n",
    "model = clustering.KMeans(featuresCol='scaled_features', **model_args)\n",
    "model = model.fit(df)"
   ]
  },
  {
   "cell_type": "code",
   "execution_count": 7,
   "metadata": {},
   "outputs": [
    {
     "name": "stdout",
     "output_type": "stream",
     "text": [
      "+----------+---------------+--------------+----------------+-----------+----------------+----------+------------+-------------+----------------+-----------+----------------+------------------+------------------+---------------+---------------+---------------+-----------------+------------------+-----------------------------------------------------+-----------------------+--------------------+--------------------+----------+\n",
      "| created_t|last_modified_t|last_updated_t|serving_quantity|additives_n|nutriscore_score|nova_group|completeness| last_image_t|energy-kcal_100g|energy_100g|        fat_100g|saturated-fat_100g|carbohydrates_100g|    sugars_100g|     fiber_100g|  proteins_100g|        salt_100g|       sodium_100g|fruits-vegetables-nuts-estimate-from-ingredients_100g|nutrition-score-fr_100g|            features|     scaled_features|prediction|\n",
      "+----------+---------------+--------------+----------------+-----------+----------------+----------+------------+-------------+----------------+-----------+----------------+------------------+------------------+---------------+---------------+---------------+-----------------+------------------+-----------------------------------------------------+-----------------------+--------------------+--------------------+----------+\n",
      "|1489072290|     1613196459| 1.707499829E9|           240.0|        0.0|            13.0|       1.0|      0.5625|1.613196458E9|            46.0|      192.0|             0.0|               0.0|             11.25|           8.75|            0.0|           0.83|            0.015|             0.006|                                     33.3333333333333|                   13.0|[1.48907229E9,1.6...|[26.0427801818207...|         7|\n",
      "|1576680826|     1587654871| 1.707638742E9|            50.0|        1.0|            -4.0|       4.0|       0.575|1.576680831E9|           260.0|     1088.0|             4.0|               1.0|              46.0|            6.0|            8.0|           10.0|             0.65|              0.26|                                                  0.0|                   -4.0|[1.576680826E9,1....|[27.5749891017107...|         2|\n",
      "|1489068137|     1717273565| 1.717273565E9|            36.0|       22.0|            21.0|       4.0|      0.6625|1.617469531E9|           444.0|     1860.0|            16.7|              6.94|              69.4|           36.1|           2.78|           2.78|             1.04|             0.417|                                    0.190770348837205|                   21.0|[1.489068137E9,1....|[26.0427075489023...|         0|\n",
      "|1489141010|     1635272020| 1.707493026E9|           283.5|        1.0|            -2.0|       4.0|       0.575|1.635271363E9| 119.92945326279|      502.0| 3.8800705467372|  0.52910052910053|   17.283950617284|2.8218694885362|            2.1|3.8800705467372| 0.29982363315698| 0.119929453262792|                                     20.8775096469455|                   -2.0|[1.48914101E9,1.6...|[26.0439820441252...|         7|\n",
      "|1587676161|     1693259160| 1.707768018E9|            28.0|        1.0|            -4.0|       3.0|       0.675|1.653786917E9| 285.71428571429|     1195.0| 21.428571428571|   1.7857142857143|   17.857142857143|3.5714285714286|3.5714285714286|7.1428571428571|  1.1160714285714|  0.44642857142856|                                     83.0013736263736|                   -4.0|[1.587676161E9,1....|[27.7672894314889...|         4|\n",
      "|1542226785|     1648755825| 1.707606549E9|           337.0|        2.0|             0.0|       4.0|      0.5625|1.648176949E9|           68.25|      286.0|            1.19|              0.59|               8.9|           1.19|           1.48|           4.75|           0.7839|           0.31356|                                     9.97257828712463|                    0.0|[1.542226785E9,1....|[26.9724132414491...|         7|\n",
      "|1587676213|     1718833060|  1.71883306E9|            90.0|        0.0|            -5.0|       1.0|       0.575|1.648169128E9| 66.666666666667|      279.0|             0.0|               0.0|   15.555555555556|11.111111111111|2.2222222222222|            0.0|0.041666666666667|0.0166666666666668|                                                 90.0|                   -5.0|[1.587676213E9,1....|[27.7672903409306...|         4|\n",
      "|1587649392|     1675029298|  1.70772859E9|             5.0|        3.0|             0.0|       4.0|       0.475|1.675029298E9|             0.0|        0.0|             0.0|               0.0|               0.0|            0.0|            0.0|            0.0|              0.0|               0.0|                                     10.4166666666667|                    0.0|(21,[0,1,2,3,4,6,...|(21,[0,1,2,3,4,6,...|         2|\n",
      "|1537709463|     1718832459| 1.718832459E9|           250.0|        3.0|             1.0|       4.0|      0.8875|1.667006073E9|            25.0|      105.0|             2.0|               0.4|               1.0|            0.0|            0.0|            1.0|              0.4|              0.16|                                                 25.0|                    1.0|[1.537709463E9,1....|[26.8934085989972...|         8|\n",
      "|1489138150|     1720842728| 1.720842728E9|            67.0|       11.0|            17.0|       4.0|       0.575|1.720842727E9|           388.0|     1620.0|            13.4|              3.73|              64.2|           43.3|           2.99|           2.99|             1.01|             0.403|                                                  0.0|                   17.0|[1.48913815E9,1.7...|[26.0439320248267...|         8|\n",
      "|1489055525|     1676755842| 1.707497895E9|            10.0|        0.0|             0.0|       3.0|      0.5625| 1.67675584E9|           400.0|     1674.0|             0.0|               0.0|              80.0|            0.0|            0.0|           10.0|             0.25|               0.1|                                                  0.0|                    0.0|[1.489055525E9,1....|[26.0424869742896...|         9|\n",
      "|1587671780|     1664811788| 1.707764725E9|           241.0|        3.0|             2.0|       4.0|       0.475| 1.59398966E9|  82.98755186722|      347.0| 2.4896265560166|   1.4522821576763|    8.298755186722|0.8298755186722|            0.8|7.0539419087137| 0.90248962655602| 0.360995850622408|                                   0.0746313301584305|                    2.0|[1.58767178E9,1.6...|[27.7672128110180...|         7|\n",
      "|1587672417|     1641238784| 1.707765179E9|           227.0|        1.0|            -6.0|       3.0|       0.475|1.641237659E9| 26.431718061674|      111.0|0.44052863436123|               0.0|   3.0837004405286|            0.0|2.2026431718062|3.0837004405286|  0.4955947136564|  0.19823788546256|                                     85.3897128431682|                   -6.0|[1.587672417E9,1....|[27.7672239516799...|         4|\n",
      "|1587674980|     1640879578| 1.707767039E9|            45.0|        0.0|             5.0|       4.0|       0.575|1.640878419E9| 155.55555555556|      651.0| 4.4444444444444|   2.2222222222222|   6.6666666666667|6.6666666666667|            0.0|13.333333333333|  1.3888888888889|  0.55555555555556|                                                  0.0|                    5.0|[1.58767498E9,1.6...|[27.7672687766667...|         2|\n",
      "|1489057916|     1637196835|  1.70749735E9|           142.0|        0.0|             6.0|       3.0|      0.5625| 1.63719539E9|           225.0|      941.0|           11.97|              6.34|             26.06|           5.63|            4.2|           7.04|            0.705|             0.282|                                     67.3611111111111|                    6.0|[1.489057916E9,1....|[26.0425287911227...|         4|\n",
      "|1587671784|     1672766174| 1.707764727E9|           140.0|        0.0|            -6.0|       1.0|       0.475|1.642527145E9| 137.14285714286|      574.0|0.71428571428571|               0.0|   28.571428571429|20.714285714286|7.1428571428571|2.1428571428571|              0.0|               0.0|                                                100.0|                   -6.0|[1.587671784E9,1....|[27.7672128809751...|         4|\n",
      "|1422762757|     1644527495| 1.707492939E9|            26.0|        3.0|            24.0|       4.0|      0.7875|1.422762895E9|           500.0|     2092.0|           26.92|             15.38|             61.54|          34.62|            0.0|           3.85|           0.4325|             0.173|                                                  0.0|                   24.0|[1.422762757E9,1....|[24.8830751738937...|         0|\n",
      "|1563307129|     1714863579| 1.714863579E9|            84.0|        5.0|             5.0|       4.0|      0.5625|1.679247841E9|           179.0|      749.0|            8.33|              2.38|              25.0|           1.19|            2.4|           2.38|           0.9825|             0.393|                                              14.0625|                    5.0|[1.563307129E9,1....|[27.3410929681729...|         8|\n",
      "|1489073118|     1628650493| 1.707490388E9|            28.0|        0.0|            20.0|       3.0|       0.575|1.628650493E9| 657.14285714286|     2749.0| 48.571428571429|   7.1428571428571|              20.0|2.8571428571429|           10.7|25.714285714286|  3.0714285714285|   1.2285714285714|                                                  0.0|                   20.0|[1.489073118E9,1....|[26.0427946629322...|         3|\n",
      "|1606700716|     1695517023|  1.70782259E9|            28.0|        0.0|            15.0|       3.0|         0.7|1.695514845E9|           286.0|     1200.0|            17.9|              10.7|              3.57|           3.57|            0.0|           25.0|             1.61|             0.643|                                                  0.0|                   15.0|[1.606700716E9,1....|[28.1000149191963...|         3|\n",
      "+----------+---------------+--------------+----------------+-----------+----------------+----------+------------+-------------+----------------+-----------+----------------+------------------+------------------+---------------+---------------+---------------+-----------------+------------------+-----------------------------------------------------+-----------------------+--------------------+--------------------+----------+\n",
      "only showing top 20 rows\n",
      "\n"
     ]
    }
   ],
   "source": [
    "evaluator = evaluation.ClusteringEvaluator(\n",
    "    predictionCol=\"prediction\",\n",
    "    featuresCol='scaled_features',\n",
    "    metricName=\"silhouette\",\n",
    "    distanceMeasure=\"squaredEuclidean\",\n",
    ")\n",
    "output = model.transform(df)\n",
    "output.show()"
   ]
  },
  {
   "cell_type": "code",
   "execution_count": 9,
   "metadata": {},
   "outputs": [
    {
     "name": "stdout",
     "output_type": "stream",
     "text": [
      "0.20486647770752803\n"
     ]
    }
   ],
   "source": [
    "print(evaluator.evaluate(output))"
   ]
  },
  {
   "cell_type": "code",
   "execution_count": 10,
   "metadata": {},
   "outputs": [
    {
     "name": "stderr",
     "output_type": "stream",
     "text": [
      "                                                                                \r"
     ]
    }
   ],
   "source": [
    "model.write().overwrite().save(config.paths.model)"
   ]
  },
  {
   "cell_type": "code",
   "execution_count": null,
   "metadata": {},
   "outputs": [],
   "source": []
  }
 ],
 "metadata": {
  "kernelspec": {
   "display_name": "venv",
   "language": "python",
   "name": "python3"
  },
  "language_info": {
   "codemirror_mode": {
    "name": "ipython",
    "version": 3
   },
   "file_extension": ".py",
   "mimetype": "text/x-python",
   "name": "python",
   "nbconvert_exporter": "python",
   "pygments_lexer": "ipython3",
   "version": "3.11.9"
  }
 },
 "nbformat": 4,
 "nbformat_minor": 2
}
